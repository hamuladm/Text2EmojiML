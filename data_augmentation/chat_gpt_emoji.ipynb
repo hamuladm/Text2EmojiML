{
 "cells": [
  {
   "cell_type": "code",
   "execution_count": 36,
   "id": "21eec6874068daa2",
   "metadata": {
    "ExecuteTime": {
     "end_time": "2024-10-31T13:23:01.713920900Z",
     "start_time": "2024-10-31T13:23:00.923563500Z"
    },
    "collapsed": false
   },
   "outputs": [],
   "source": [
    "from openai import OpenAI\n",
    "import os\n",
    "from dotenv import load_dotenv"
   ]
  },
  {
   "cell_type": "code",
   "execution_count": 37,
   "id": "22d15bf532822d52",
   "metadata": {
    "ExecuteTime": {
     "end_time": "2024-10-31T13:23:03.909577400Z",
     "start_time": "2024-10-31T13:23:01.731861600Z"
    },
    "collapsed": false
   },
   "outputs": [],
   "source": [
    "load_dotenv()\n",
    "\n",
    "os.environ[\"OPENAI_API_KEY\"] = os.getenv(\"GPT_TOKEN\")"
   ]
  },
  {
   "cell_type": "code",
   "execution_count": 38,
   "id": "06cded18",
   "metadata": {},
   "outputs": [],
   "source": [
    "client = OpenAI()"
   ]
  },
  {
   "cell_type": "code",
   "execution_count": null,
   "id": "fa5e8455",
   "metadata": {},
   "outputs": [],
   "source": [
    "def text_to_emoji(sentence):\n",
    "    history = [\n",
    "        {\n",
    "            \"role\": \"system\",\n",
    "            \"content\": \"I am purly text to emoji model. I recieve on input text and give only emoji as output\",\n",
    "        },\n",
    "        {\"role\": \"user\", \"content\": sentence},\n",
    "    ]\n",
    "    response = client.chat.completions.create(model=\"gpt-3.5-turbo\", messages=history)\n",
    "    return response.choices[0].message.content"
   ]
  },
  {
   "cell_type": "code",
   "execution_count": null,
   "id": "c206b3a7",
   "metadata": {},
   "outputs": [
    {
     "name": "stdout",
     "output_type": "stream",
     "text": [
      "['Anti-clotting drugs, also called blood thinners, are widely prescribed as a preventative measure for persons who have experienced a heart attack or stroke, or who suffer from heart disease or poor blood circulation due to hardened and narrowed arteries (atherosclerosis).', 'Why would we ever expect verses to help us read the Bible?', \"The venture could also help sustain the town's Class 1A school, she added.\", 'It is a very primitive village.', 'Those who are homeless tend to disappear amid busy community life, living in temporary or inadequate housing, motel/hotel rooms, cars and vans and outdoors with no shelter at all.', 'The first king of Israel was Saul, the son of Kish, of the tribe of Benjamin.', 'The symptoms of mania may include: - either an elated, happy mood or an irritable, angry, unpleasant mood - increased physical and mental activity and energy - racing thoughts and flight of ideas - increased talking, more rapid speech than normal - ambitious, often grandiose plans - risk taking - impulsive activity such as spending sprees, sexual indiscretion, and alcohol abuse - decreased sleep without experiencing fatigue What are the symptoms of depression?', \"The park is around 5.5 hectares and its features include a bandstand, bowling greens, multi-use games area, children's play area, outdoor gym, wildlife area, outdoor classroom and floral displays.\", 'Contentious issues include tax cuts for the wealthy and cuts to entitlement spending.', 'This spring nearly a million people visited the world famous garden.']\n"
     ]
    }
   ],
   "source": [
    "lines = 10\n",
    "with open(\"./data/relevant_data.txt\", \"r\", encoding=\"utf-8\") as file:\n",
    "    content = [file.readline().strip() for _ in range(lines)]\n",
    "print(content)"
   ]
  },
  {
   "cell_type": "code",
   "execution_count": null,
   "id": "f23fd1ab",
   "metadata": {},
   "outputs": [
    {
     "name": "stdout",
     "output_type": "stream",
     "text": [
      "lollll\n",
      "Error code: 401 - {'error': {'message': 'Incorrect API key provided: sk-proj-********************************************************************************************************************************************************IOgA. You can find your API key at https://platform.openai.com/account/api-keys.', 'type': 'invalid_request_error', 'param': None, 'code': 'invalid_api_key'}}\n",
      "58026\n"
     ]
    }
   ],
   "source": [
    "portion = \"\"\n",
    "filename = \"gpt_translate_1.txt\"\n",
    "inx = 0\n",
    "start = 51620\n",
    "end = 100000\n",
    "try:\n",
    "    with open(\"./data/relevant_data.txt\", \"r\", encoding=\"utf-8\") as file:\n",
    "        for sentence in file:\n",
    "            if inx <= start:\n",
    "                inx += 1\n",
    "                continue\n",
    "            emoji = text_to_emoji(sentence)\n",
    "            sentence = sentence.rstrip(\"\\n\")\n",
    "            line = f\"{sentence},{emoji}\\n\"\n",
    "            portion += line\n",
    "            inx += 1\n",
    "            if inx % 1000 == 0:\n",
    "                with open(f\"./data/{filename}\", \"a\", encoding=\"utf-8\") as file:\n",
    "                    file.write(portion)\n",
    "                portion = \"\"\n",
    "            if inx == end:\n",
    "                break\n",
    "except Exception as err:\n",
    "    print(\"lollll\")\n",
    "    print(err)\n",
    "with open(f\"./data/{filename}\", \"a\", encoding=\"utf-8\") as file:\n",
    "    file.write(portion)"
   ]
  },
  {
   "cell_type": "code",
   "execution_count": null,
   "id": "9564d490",
   "metadata": {},
   "outputs": [
    {
     "name": "stdout",
     "output_type": "stream",
     "text": [
      "51620\n"
     ]
    }
   ],
   "source": [
    "with open(\"./data/gpt_translate.txt\", \"a\", encoding=\"utf-8\") as file:\n",
    "    file.write(portion)\n",
    "print(inx)"
   ]
  },
  {
   "cell_type": "code",
   "execution_count": 19,
   "id": "c64082bd",
   "metadata": {},
   "outputs": [
    {
     "name": "stdout",
     "output_type": "stream",
     "text": [
      "However, a neighbour can complain to local authority about your hedge, if its height 'reduces the amenity value' of their garden, by reducing light to windows (not an issue, the gardens are too long) or denying them winter sunshine. - 🏡🌳🔈👥⚠️🌿🌞\n",
      "The experiments ended in 1965. - 🧪🔚🔢🔙\n",
      "The systems technology and operation is fantastic, it will have a huge impact on water conservation. - 💻🔬🌊🌍\n",
      "The two countries are locked in a dispute over U.S. allegations that China steals U.S. technology and forces U.S. companies to share trade secrets in exchange for access to the Chinese market. - 🌏🤝🔒🇺🇸🤝🇨🇳💼💻🔓🔍🇨🇳🔥🔙🇺🇸🛡💼🔓💡💻💰🔁🇨🇳🏪🏹\n",
      "Should You Be a CSP? - 🤔\n",
      "Our mission is to send a message to kids everywhere about the importance of staying in school and loving it! - 🚀📚❤️🏫\n",
      "Creating a memory with loved ones? - ❤️👨‍👩‍👧‍👦🌟📸🎉🥰\n",
      "Children are killed and disfigured on our roads every day, and every day we fail to stop the slaughter. - 😢🛣️🚸🛑\n",
      "In the countryside of Ghana, in Ecuador, and in the Philippine Islands, countless people bring the produce of their farms and their handicrafts to a town to sell. - 🏞️🇬🇭🇪🇨🇵🇭👨‍🌾🏪🌾🛒\n",
      "The most frequent (≥ 1%) adverse reactions that led to permanent discontinuation in monotherapy studies were infection, haemorrhage, multi-organ failure, and VOD. - 🦠🩸🩺🔄\n"
     ]
    }
   ],
   "source": [
    "for sentence in content:\n",
    "    emoji = text_to_emoji(sentence)\n",
    "    print(f\"{sentence} - {emoji}\")"
   ]
  },
  {
   "cell_type": "code",
   "execution_count": null,
   "id": "678ae628",
   "metadata": {},
   "outputs": [],
   "source": [
    "def is_emoji(s):\n",
    "    # Get the list of detected emojis in the string\n",
    "    detected_emojis = emoji.emoji_list(s)\n",
    "    # Join the detected emojis into a single string\n",
    "    reconstructed_emoji_string = \"\".join(e[\"emoji\"] for e in detected_emojis)\n",
    "    # Check if the input string is entirely made of emojis\n",
    "    return s == reconstructed_emoji_string"
   ]
  },
  {
   "cell_type": "code",
   "execution_count": 9,
   "id": "a16756ce",
   "metadata": {},
   "outputs": [
    {
     "name": "stdout",
     "output_type": "stream",
     "text": [
      "True\n"
     ]
    }
   ],
   "source": [
    "print(is_emoji(\"🚗🚦◾🔄👀🔒🚶‍♂️🛑\"))"
   ]
  },
  {
   "cell_type": "code",
   "execution_count": null,
   "id": "04832d8f",
   "metadata": {},
   "outputs": [],
   "source": [
    "inx = 0\n",
    "\n",
    "with open(\"./data/gpt_translate.txt\", \"r\", encoding=\"utf-8\") as file_r:\n",
    "    with open(\"./data/gpt_translate_fix.txt\", \"w\", encoding=\"utf-8\") as file:\n",
    "        while True:\n",
    "            line1 = file_r.readline()\n",
    "            if line1 == \"\\n\":\n",
    "                continue\n",
    "            if len(line1) > 0 and not line1[0].isalpha():\n",
    "                continue\n",
    "            line2 = file_r.readline()\n",
    "            if not line1 and not line2:\n",
    "                break\n",
    "            new_line = f\"{line1.strip()}{line2}\"\n",
    "            file.write(new_line)"
   ]
  }
 ],
 "metadata": {
  "kernelspec": {
   "display_name": "env",
   "language": "python",
   "name": "python3"
  },
  "language_info": {
   "codemirror_mode": {
    "name": "ipython",
    "version": 3
   },
   "file_extension": ".py",
   "mimetype": "text/x-python",
   "name": "python",
   "nbconvert_exporter": "python",
   "pygments_lexer": "ipython3",
   "version": "3.10.12"
  }
 },
 "nbformat": 4,
 "nbformat_minor": 5
}
